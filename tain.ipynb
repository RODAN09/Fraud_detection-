{
 "cells": [
  {
   "cell_type": "code",
   "execution_count": 9,
   "id": "f34ed51f",
   "metadata": {},
   "outputs": [
    {
     "name": "stdout",
     "output_type": "stream",
     "text": [
      "✅ transactions.csv created successfully!\n",
      "Shape: (1754155, 9)\n",
      "Columns: ['TRANSACTION_ID', 'TX_DATETIME', 'CUSTOMER_ID', 'TERMINAL_ID', 'TX_AMOUNT', 'TX_TIME_SECONDS', 'TX_TIME_DAYS', 'TX_FRAUD', 'TX_FRAUD_SCENARIO']\n"
     ]
    }
   ],
   "source": [
    "import pandas as pd\n",
    "import glob\n",
    "import os\n",
    "\n",
    "# path to your data folder (adjust if needed)\n",
    "data_path = \"data\"   # for example: \"/Users/rounakkumar/Desktop/data\"\n",
    "\n",
    "# read all daily pickle files\n",
    "all_files = sorted(glob.glob(os.path.join(data_path, \"*.pkl\")))\n",
    "\n",
    "dfs = []\n",
    "for f in all_files:\n",
    "    df = pd.read_pickle(f)\n",
    "    dfs.append(df)\n",
    "\n",
    "# merge into one big DataFrame\n",
    "full_df = pd.concat(dfs, ignore_index=True)\n",
    "\n",
    "# save as CSV for the pipeline\n",
    "full_df.to_csv(\"transactions.csv\", index=False)\n",
    "\n",
    "print(\"✅ transactions.csv created successfully!\")\n",
    "print(\"Shape:\", full_df.shape)\n",
    "print(\"Columns:\", full_df.columns.tolist())\n"
   ]
  },
  {
   "cell_type": "code",
   "execution_count": 3,
   "id": "78d70db3",
   "metadata": {},
   "outputs": [
    {
     "name": "stdout",
     "output_type": "stream",
     "text": [
      "Collecting imblearn\n",
      "  Downloading imblearn-0.0-py2.py3-none-any.whl.metadata (355 bytes)\n",
      "Collecting imbalanced-learn (from imblearn)\n",
      "  Downloading imbalanced_learn-0.14.0-py3-none-any.whl.metadata (8.8 kB)\n",
      "Requirement already satisfied: numpy<3,>=1.25.2 in /Library/Frameworks/Python.framework/Versions/3.11/lib/python3.11/site-packages (from imbalanced-learn->imblearn) (2.0.2)\n",
      "Requirement already satisfied: scipy<2,>=1.11.4 in /Library/Frameworks/Python.framework/Versions/3.11/lib/python3.11/site-packages (from imbalanced-learn->imblearn) (1.15.2)\n",
      "Requirement already satisfied: scikit-learn<2,>=1.4.2 in /Library/Frameworks/Python.framework/Versions/3.11/lib/python3.11/site-packages (from imbalanced-learn->imblearn) (1.6.1)\n",
      "Requirement already satisfied: joblib<2,>=1.2.0 in /Library/Frameworks/Python.framework/Versions/3.11/lib/python3.11/site-packages (from imbalanced-learn->imblearn) (1.4.2)\n",
      "Requirement already satisfied: threadpoolctl<4,>=2.0.0 in /Library/Frameworks/Python.framework/Versions/3.11/lib/python3.11/site-packages (from imbalanced-learn->imblearn) (3.6.0)\n",
      "Downloading imblearn-0.0-py2.py3-none-any.whl (1.9 kB)\n",
      "Downloading imbalanced_learn-0.14.0-py3-none-any.whl (239 kB)\n",
      "Installing collected packages: imbalanced-learn, imblearn\n",
      "\u001b[2K   \u001b[90m━━━━━━━━━━━━━━━━━━━━━━━━━━━━━━━━━━━━━━━━\u001b[0m \u001b[32m2/2\u001b[0m [imblearn]\n",
      "\u001b[1A\u001b[2KSuccessfully installed imbalanced-learn-0.14.0 imblearn-0.0\n"
     ]
    }
   ],
   "source": [
    "! pip install imblearn"
   ]
  },
  {
   "cell_type": "code",
   "execution_count": 5,
   "id": "640148a5",
   "metadata": {},
   "outputs": [
    {
     "name": "stdout",
     "output_type": "stream",
     "text": [
      "\u001b[34m==>\u001b[0m \u001b[1mAuto-updating Homebrew...\u001b[0m\n",
      "Adjust how often this is run with `$HOMEBREW_AUTO_UPDATE_SECS` or disable with\n",
      "`$HOMEBREW_NO_AUTO_UPDATE=1`. Hide these hints with `$HOMEBREW_NO_ENV_HINTS=1` (see `man brew`).\n",
      "\u0007\u001b[34m==>\u001b[0m \u001b[1mHomebrew collects anonymous analytics.\u001b[0m\n",
      "\u001b[1mRead the analytics documentation (and how to opt-out) here:\n",
      "  \u001b[4mhttps://docs.brew.sh/Analytics\u001b[24m\u001b[0m\n",
      "No analytics have been recorded yet (nor will be during this `brew` run).\n",
      "\n",
      "\u001b[34m==>\u001b[0m \u001b[1mHomebrew is run entirely by unpaid volunteers. Please consider donating:\u001b[0m\n",
      "  \u001b[4mhttps://github.com/Homebrew/brew#donations\u001b[24m\n",
      "\n",
      "\u001b[34m==>\u001b[0m \u001b[1mAuto-updated Homebrew!\u001b[0m\n",
      "Updated 2 taps (homebrew/core and homebrew/cask).\n",
      "\u001b[34m==>\u001b[0m \u001b[1mNew Formulae\u001b[0m\n",
      "airtable-mcp-server: MCP Server for Airtable\n",
      "archgw: CLI for Arch Gateway\n",
      "chrome-devtools-mcp: Chrome DevTools for coding agents\n",
      "cliproxyapi: Wrap Gemini CLI, Codex, Claude Code, Qwen Code as an API service\n",
      "config-file-validator: CLI tool to validate different configuration file types\n",
      "container-compose: Manage Apple Container with Docker Compose files\n",
      "ctrld: Highly configurable, multi-protocol DNS forwarding proxy\n",
      "dnote: Simple command-line notebook\n",
      "granted: Easiest way to access your cloud\n",
      "libptytty: Library for OS-independent pseudo-TTY management\n",
      "litehtml: Fast and lightweight HTML/CSS rendering engine\n",
      "mcp-google-sheets: MCP server integrates with your Google Drive and Google Sheets\n",
      "mdserve: Fast markdown preview server with live reload and theme support\n",
      "n8n-mcp: MCP for Claude Desktop, Claude Code, Windsurf, Cursor to build n8n workflows\n",
      "openblas64: Optimized BLAS library\n",
      "openssl@3.5: Cryptography and SSL/TLS Toolkit\n",
      "pyscn: Intelligent Python Code Quality Analyzer\n",
      "qt3d: Provides functionality for near-realtime simulation systems\n",
      "qt5compat: Qt 5 Core APIs that were removed in Qt 6\n",
      "qtbase: Cross-platform application and UI framework\n",
      "qtcharts: UI Components for displaying visually pleasing charts\n",
      "qtconnectivity: Provides access to Bluetooth hardware\n",
      "qtdatavis3d: Provides functionality for 3D visualization\n",
      "qtdeclarative: QML, Qt Quick and several related modules\n",
      "qtgraphs: Provides functionality for 2D and 3D graphs\n",
      "qtgrpc: Provides support for communicating with gRPC services\n",
      "qthttpserver: Framework for embedding an HTTP server into a Qt application\n",
      "qtimageformats: Plugins for additional image formats: TIFF, MNG, TGA, WBMP\n",
      "qtlanguageserver: Implementation of the Language Server Protocol and JSON-RPC\n",
      "qtlocation: Provides C++ interfaces to retrieve location and navigational information\n",
      "qtlottie: Display graphics and animations exported by the Bodymovin plugin\n",
      "qtmultimedia: Provides APIs for playing back and recording audiovisual content\n",
      "qtnetworkauth: Provides support for OAuth-based authorization to online services\n",
      "qtpositioning: Provides access to position, satellite info and area monitoring classes\n",
      "qtquick3d: Provides a high-level API for creating 3D content or UIs based on Qt Quick\n",
      "qtquick3dphysics: High-level QML module adding physical simulation capabilities to Qt Quick 3D\n",
      "qtquickeffectmaker: Tool to create custom Qt Quick shader effects\n",
      "qtquicktimeline: Enables keyframe-based animations and parameterization\n",
      "qtremoteobjects: Provides APIs for inter-process communication\n",
      "qtscxml: Provides functionality to create state machines from SCXML files\n",
      "qtsensors: Provides access to sensors via QML and C++ interfaces\n",
      "qtserialbus: Provides access to serial industrial bus interfaces\n",
      "qtserialport: Provides classes to interact with hardware and virtual serial ports\n",
      "qtshadertools: Provides tools for the cross-platform Qt shader pipeline\n",
      "qtspeech: Enables access to text-to-speech engines\n",
      "qtsvg: Classes for displaying the contents of SVG files\n",
      "qttools: Facilitate the design, development, testing and deployment of applications\n",
      "qttranslations: Qt translation catalogs\n",
      "qtvirtualkeyboard: Provides an input framework and reference keyboard frontend\n",
      "qtwayland: Wayland platform plugin and QtWaylandCompositor API\n",
      "qtwebchannel: Bridges the gap between Qt applications and HTML/JavaScript\n",
      "qtwebengine: Provides functionality for rendering regions of dynamic web content\n",
      "qtwebsockets: Provides WebSocket communication compliant with RFC 6455\n",
      "qtwebview: Displays web content in a QML application\n",
      "radvd: IPv6 Router Advertisement Daemon\n",
      "rolesanywhere-credential-helper: Manages getting temporary security credentials from IAM Roles Anywhere\n",
      "snooze: Run a command at a particular time\n",
      "wassette: Security-oriented runtime that runs WebAssembly Components via MCP\n",
      "yamlresume: Resumes as code in YAML\n",
      "yuque-dl: Knowledge base downloader for Yuque\n",
      "\n",
      "You have \u001b[1m1\u001b[0m outdated formula installed.\n",
      "\n",
      "\u001b[32m==>\u001b[0m \u001b[1mFetching downloads for: \u001b[32mlibomp\u001b[39m\u001b[0m\n",
      "\u001b[34m==>\u001b[0m \u001b[1mDownloading https://ghcr.io/v2/homebrew/core/libomp/manifests/21.1.2\u001b[0m\n",
      "######################################################################### 100.0%\n",
      "\u001b[32m==>\u001b[0m \u001b[1mFetching \u001b[32mlibomp\u001b[39m\u001b[0m\n",
      "\u001b[34m==>\u001b[0m \u001b[1mDownloading https://ghcr.io/v2/homebrew/core/libomp/blobs/sha256:34e886a8636\u001b[0m\n",
      "######################################################################### 100.0%\n",
      "\u001b[34m==>\u001b[0m \u001b[1mPouring libomp--21.1.2.arm64_tahoe.bottle.tar.gz\u001b[0m\n",
      "\u001b[34m==>\u001b[0m \u001b[1mCaveats\u001b[0m\n",
      "libomp is keg-only, which means it was not symlinked into /opt/homebrew,\n",
      "because it can override GCC headers and result in broken builds.\n",
      "\n",
      "For compilers to find libomp you may need to set:\n",
      "  export LDFLAGS=\"-L/opt/homebrew/opt/libomp/lib\"\n",
      "  export CPPFLAGS=\"-I/opt/homebrew/opt/libomp/include\"\n",
      "\u001b[34m==>\u001b[0m \u001b[1mSummary\u001b[0m\n",
      "🍺  /opt/homebrew/Cellar/libomp/21.1.2: 9 files, 1.7MB\n",
      "\u001b[34m==>\u001b[0m \u001b[1mRunning `brew cleanup libomp`...\u001b[0m\n",
      "Disable this behaviour by setting `HOMEBREW_NO_INSTALL_CLEANUP=1`.\n",
      "Hide these hints with `HOMEBREW_NO_ENV_HINTS=1` (see `man brew`).\n",
      "Linking /opt/homebrew/Cellar/libomp/21.1.2... 6 symlinks created.\n",
      "Found existing installation: xgboost 3.0.5\n",
      "Uninstalling xgboost-3.0.5:\n",
      "  Successfully uninstalled xgboost-3.0.5\n",
      "Collecting xgboost\n",
      "  Downloading xgboost-3.0.5-py3-none-macosx_12_0_arm64.whl.metadata (2.1 kB)\n",
      "Requirement already satisfied: numpy in /Library/Frameworks/Python.framework/Versions/3.11/lib/python3.11/site-packages (from xgboost) (2.0.2)\n",
      "Requirement already satisfied: scipy in /Library/Frameworks/Python.framework/Versions/3.11/lib/python3.11/site-packages (from xgboost) (1.15.2)\n",
      "Downloading xgboost-3.0.5-py3-none-macosx_12_0_arm64.whl (2.0 MB)\n",
      "\u001b[2K   \u001b[90m━━━━━━━━━━━━━━━━━━━━━━━━━━━━━━━━━━━━━━━━\u001b[0m \u001b[32m2.0/2.0 MB\u001b[0m \u001b[31m4.0 MB/s\u001b[0m  \u001b[33m0:00:00\u001b[0m eta \u001b[36m0:00:01\u001b[0m\n",
      "\u001b[?25hInstalling collected packages: xgboost\n",
      "Successfully installed xgboost-3.0.5\n"
     ]
    }
   ],
   "source": [
    "# 1. Install libomp (needed by xgboost)\n",
    "! brew install libomp\n",
    "\n",
    "# 2. Link it so xgboost can find it\n",
    "! brew link libomp --force\n",
    "\n",
    "# 3. Reinstall XGBoost so it compiles correctly for your architecture\n",
    "! pip uninstall xgboost -y\n",
    "! pip install xgboost --no-cache-dir\n"
   ]
  },
  {
   "cell_type": "code",
   "execution_count": 7,
   "id": "64513537",
   "metadata": {},
   "outputs": [
    {
     "name": "stdout",
     "output_type": "stream",
     "text": [
      "Collecting shap\n",
      "  Downloading shap-0.48.0-cp311-cp311-macosx_11_0_arm64.whl.metadata (25 kB)\n",
      "Requirement already satisfied: numpy in /Library/Frameworks/Python.framework/Versions/3.11/lib/python3.11/site-packages (from shap) (2.0.2)\n",
      "Requirement already satisfied: scipy in /Library/Frameworks/Python.framework/Versions/3.11/lib/python3.11/site-packages (from shap) (1.15.2)\n",
      "Requirement already satisfied: scikit-learn in /Library/Frameworks/Python.framework/Versions/3.11/lib/python3.11/site-packages (from shap) (1.6.1)\n",
      "Requirement already satisfied: pandas in /Library/Frameworks/Python.framework/Versions/3.11/lib/python3.11/site-packages (from shap) (2.2.3)\n",
      "Requirement already satisfied: tqdm>=4.27.0 in /Library/Frameworks/Python.framework/Versions/3.11/lib/python3.11/site-packages (from shap) (4.67.1)\n",
      "Requirement already satisfied: packaging>20.9 in /Users/rounakkumar/Library/Python/3.11/lib/python/site-packages (from shap) (24.2)\n",
      "Collecting slicer==0.0.8 (from shap)\n",
      "  Downloading slicer-0.0.8-py3-none-any.whl.metadata (4.0 kB)\n",
      "Collecting numba>=0.54 (from shap)\n",
      "  Downloading numba-0.62.1-cp311-cp311-macosx_11_0_arm64.whl.metadata (2.8 kB)\n",
      "Collecting cloudpickle (from shap)\n",
      "  Downloading cloudpickle-3.1.1-py3-none-any.whl.metadata (7.1 kB)\n",
      "Requirement already satisfied: typing-extensions in /Users/rounakkumar/Library/Python/3.11/lib/python/site-packages (from shap) (4.12.2)\n",
      "Collecting llvmlite<0.46,>=0.45.0dev0 (from numba>=0.54->shap)\n",
      "  Downloading llvmlite-0.45.1-cp311-cp311-macosx_11_0_arm64.whl.metadata (4.8 kB)\n",
      "Requirement already satisfied: python-dateutil>=2.8.2 in /Users/rounakkumar/Library/Python/3.11/lib/python/site-packages (from pandas->shap) (2.9.0.post0)\n",
      "Requirement already satisfied: pytz>=2020.1 in /Library/Frameworks/Python.framework/Versions/3.11/lib/python3.11/site-packages (from pandas->shap) (2024.2)\n",
      "Requirement already satisfied: tzdata>=2022.7 in /Library/Frameworks/Python.framework/Versions/3.11/lib/python3.11/site-packages (from pandas->shap) (2025.1)\n",
      "Requirement already satisfied: six>=1.5 in /Users/rounakkumar/Library/Python/3.11/lib/python/site-packages (from python-dateutil>=2.8.2->pandas->shap) (1.17.0)\n",
      "Requirement already satisfied: joblib>=1.2.0 in /Library/Frameworks/Python.framework/Versions/3.11/lib/python3.11/site-packages (from scikit-learn->shap) (1.4.2)\n",
      "Requirement already satisfied: threadpoolctl>=3.1.0 in /Library/Frameworks/Python.framework/Versions/3.11/lib/python3.11/site-packages (from scikit-learn->shap) (3.6.0)\n",
      "Downloading shap-0.48.0-cp311-cp311-macosx_11_0_arm64.whl (548 kB)\n",
      "\u001b[2K   \u001b[90m━━━━━━━━━━━━━━━━━━━━━━━━━━━━━━━━━━━━━━━━\u001b[0m \u001b[32m548.0/548.0 kB\u001b[0m \u001b[31m5.3 MB/s\u001b[0m  \u001b[33m0:00:00\u001b[0m\n",
      "\u001b[?25hDownloading slicer-0.0.8-py3-none-any.whl (15 kB)\n",
      "Downloading numba-0.62.1-cp311-cp311-macosx_11_0_arm64.whl (2.7 MB)\n",
      "\u001b[2K   \u001b[90m━━━━━━━━━━━━━━━━━━━━━━━━━━━━━━━━━━━━━━━━\u001b[0m \u001b[32m2.7/2.7 MB\u001b[0m \u001b[31m3.1 MB/s\u001b[0m  \u001b[33m0:00:00\u001b[0m eta \u001b[36m0:00:01\u001b[0m\n",
      "\u001b[?25hDownloading llvmlite-0.45.1-cp311-cp311-macosx_11_0_arm64.whl (37.3 MB)\n",
      "\u001b[2K   \u001b[90m━━━━━━━━━━━━━━━━━━━━━━━━━━━━━━━━━━━━━━━━\u001b[0m \u001b[32m37.3/37.3 MB\u001b[0m \u001b[31m3.8 MB/s\u001b[0m  \u001b[33m0:00:09\u001b[0mm0:00:01\u001b[0m00:01\u001b[0m\n",
      "\u001b[?25hDownloading cloudpickle-3.1.1-py3-none-any.whl (20 kB)\n",
      "Installing collected packages: slicer, llvmlite, cloudpickle, numba, shap\n",
      "\u001b[2K   \u001b[90m━━━━━━━━━━━━━━━━━━━━━━━━━━━━━━━━━━━━━━━━\u001b[0m \u001b[32m5/5\u001b[0m [shap][32m4/5\u001b[0m [shap]]te]\n",
      "\u001b[1A\u001b[2KSuccessfully installed cloudpickle-3.1.1 llvmlite-0.45.1 numba-0.62.1 shap-0.48.0 slicer-0.0.8\n"
     ]
    }
   ],
   "source": [
    "! pip install shap\n"
   ]
  },
  {
   "cell_type": "code",
   "execution_count": 10,
   "id": "0105a4b1",
   "metadata": {},
   "outputs": [
    {
     "name": "stdout",
     "output_type": "stream",
     "text": [
      "Rows: 1754155\n",
      "   TRANSACTION_ID         TX_DATETIME  CUSTOMER_ID  TERMINAL_ID  TX_AMOUNT  \\\n",
      "0               0 2018-04-01 00:00:31          596         3156      57.16   \n",
      "1               1 2018-04-01 00:02:10         4961         3412      81.51   \n",
      "2               2 2018-04-01 00:07:56            2         1365     146.00   \n",
      "3               3 2018-04-01 00:09:29         4128         8737      64.49   \n",
      "4               4 2018-04-01 00:10:34          927         9906      50.99   \n",
      "\n",
      "   TX_TIME_SECONDS  TX_TIME_DAYS  TX_FRAUD  TX_FRAUD_SCENARIO  \n",
      "0               31             0         0                  0  \n",
      "1              130             0         0                  0  \n",
      "2              476             0         0                  0  \n",
      "3              569             0         0                  0  \n",
      "4              634             0         0                  0  \n"
     ]
    },
    {
     "name": "stderr",
     "output_type": "stream",
     "text": [
      "/var/folders/k9/7bhl3ty159j5lsxblrqtrysm0000gn/T/ipykernel_1326/1274608842.py:81: FutureWarning: A value is trying to be set on a copy of a DataFrame or Series through chained assignment using an inplace method.\n",
      "The behavior will change in pandas 3.0. This inplace method will never work because the intermediate object on which we are setting values always behaves as a copy.\n",
      "\n",
      "For example, when doing 'df[col].method(value, inplace=True)', try using 'df.method({col: value}, inplace=True)' or df[col] = df[col].method(value) instead, to perform the operation inplace on the original object.\n",
      "\n",
      "\n",
      "  df[\"tx_amount_over_cust_avg\"].replace([np.inf, -np.inf], np.nan, inplace=True)\n",
      "/var/folders/k9/7bhl3ty159j5lsxblrqtrysm0000gn/T/ipykernel_1326/1274608842.py:82: FutureWarning: A value is trying to be set on a copy of a DataFrame or Series through chained assignment using an inplace method.\n",
      "The behavior will change in pandas 3.0. This inplace method will never work because the intermediate object on which we are setting values always behaves as a copy.\n",
      "\n",
      "For example, when doing 'df[col].method(value, inplace=True)', try using 'df.method({col: value}, inplace=True)' or df[col] = df[col].method(value) instead, to perform the operation inplace on the original object.\n",
      "\n",
      "\n",
      "  df[\"tx_amount_over_cust_avg\"].fillna(0, inplace=True)\n",
      "/var/folders/k9/7bhl3ty159j5lsxblrqtrysm0000gn/T/ipykernel_1326/1274608842.py:83: FutureWarning: A value is trying to be set on a copy of a DataFrame or Series through chained assignment using an inplace method.\n",
      "The behavior will change in pandas 3.0. This inplace method will never work because the intermediate object on which we are setting values always behaves as a copy.\n",
      "\n",
      "For example, when doing 'df[col].method(value, inplace=True)', try using 'df.method({col: value}, inplace=True)' or df[col] = df[col].method(value) instead, to perform the operation inplace on the original object.\n",
      "\n",
      "\n",
      "  df[\"tx_amount_over_term_avg\"].replace([np.inf, -np.inf], np.nan, inplace=True)\n",
      "/var/folders/k9/7bhl3ty159j5lsxblrqtrysm0000gn/T/ipykernel_1326/1274608842.py:84: FutureWarning: A value is trying to be set on a copy of a DataFrame or Series through chained assignment using an inplace method.\n",
      "The behavior will change in pandas 3.0. This inplace method will never work because the intermediate object on which we are setting values always behaves as a copy.\n",
      "\n",
      "For example, when doing 'df[col].method(value, inplace=True)', try using 'df.method({col: value}, inplace=True)' or df[col] = df[col].method(value) instead, to perform the operation inplace on the original object.\n",
      "\n",
      "\n",
      "  df[\"tx_amount_over_term_avg\"].fillna(0, inplace=True)\n"
     ]
    },
    {
     "name": "stdout",
     "output_type": "stream",
     "text": [
      "Train shape: (1403324, 12) Test shape: (350831, 12)\n",
      "Fraud ratio train: 0.00821691925742024 test: 0.008978682043491025\n",
      "Fitting 3 folds for each of 12 candidates, totalling 36 fits\n"
     ]
    },
    {
     "name": "stderr",
     "output_type": "stream",
     "text": [
      "/Library/Frameworks/Python.framework/Versions/3.11/lib/python3.11/site-packages/xgboost/training.py:183: UserWarning: [17:19:37] WARNING: /Users/runner/work/xgboost/xgboost/src/learner.cc:738: \n",
      "Parameters: { \"use_label_encoder\" } are not used.\n",
      "\n",
      "  bst.update(dtrain, iteration=i, fobj=obj)\n"
     ]
    },
    {
     "name": "stdout",
     "output_type": "stream",
     "text": [
      "[CV] END clf__colsample_bytree=0.6, clf__learning_rate=0.01, clf__max_depth=10, clf__n_estimators=400, clf__subsample=0.6; total time=   4.9s\n"
     ]
    },
    {
     "name": "stderr",
     "output_type": "stream",
     "text": [
      "/Library/Frameworks/Python.framework/Versions/3.11/lib/python3.11/site-packages/xgboost/training.py:183: UserWarning: [17:19:42] WARNING: /Users/runner/work/xgboost/xgboost/src/learner.cc:738: \n",
      "Parameters: { \"use_label_encoder\" } are not used.\n",
      "\n",
      "  bst.update(dtrain, iteration=i, fobj=obj)\n"
     ]
    },
    {
     "name": "stdout",
     "output_type": "stream",
     "text": [
      "[CV] END clf__colsample_bytree=0.6, clf__learning_rate=0.01, clf__max_depth=10, clf__n_estimators=400, clf__subsample=0.6; total time=   9.0s\n"
     ]
    },
    {
     "name": "stderr",
     "output_type": "stream",
     "text": [
      "/Library/Frameworks/Python.framework/Versions/3.11/lib/python3.11/site-packages/xgboost/training.py:183: UserWarning: [17:19:51] WARNING: /Users/runner/work/xgboost/xgboost/src/learner.cc:738: \n",
      "Parameters: { \"use_label_encoder\" } are not used.\n",
      "\n",
      "  bst.update(dtrain, iteration=i, fobj=obj)\n"
     ]
    },
    {
     "name": "stdout",
     "output_type": "stream",
     "text": [
      "[CV] END clf__colsample_bytree=0.6, clf__learning_rate=0.01, clf__max_depth=10, clf__n_estimators=400, clf__subsample=0.6; total time=  14.4s\n"
     ]
    },
    {
     "name": "stderr",
     "output_type": "stream",
     "text": [
      "/Library/Frameworks/Python.framework/Versions/3.11/lib/python3.11/site-packages/xgboost/training.py:183: UserWarning: [17:20:05] WARNING: /Users/runner/work/xgboost/xgboost/src/learner.cc:738: \n",
      "Parameters: { \"use_label_encoder\" } are not used.\n",
      "\n",
      "  bst.update(dtrain, iteration=i, fobj=obj)\n"
     ]
    },
    {
     "name": "stdout",
     "output_type": "stream",
     "text": [
      "[CV] END clf__colsample_bytree=0.6, clf__learning_rate=0.01, clf__max_depth=3, clf__n_estimators=400, clf__subsample=0.6; total time=   2.6s\n"
     ]
    },
    {
     "name": "stderr",
     "output_type": "stream",
     "text": [
      "/Library/Frameworks/Python.framework/Versions/3.11/lib/python3.11/site-packages/xgboost/training.py:183: UserWarning: [17:20:08] WARNING: /Users/runner/work/xgboost/xgboost/src/learner.cc:738: \n",
      "Parameters: { \"use_label_encoder\" } are not used.\n",
      "\n",
      "  bst.update(dtrain, iteration=i, fobj=obj)\n"
     ]
    },
    {
     "name": "stdout",
     "output_type": "stream",
     "text": [
      "[CV] END clf__colsample_bytree=0.6, clf__learning_rate=0.01, clf__max_depth=3, clf__n_estimators=400, clf__subsample=0.6; total time=   4.8s\n"
     ]
    },
    {
     "name": "stderr",
     "output_type": "stream",
     "text": [
      "/Library/Frameworks/Python.framework/Versions/3.11/lib/python3.11/site-packages/xgboost/training.py:183: UserWarning: [17:20:13] WARNING: /Users/runner/work/xgboost/xgboost/src/learner.cc:738: \n",
      "Parameters: { \"use_label_encoder\" } are not used.\n",
      "\n",
      "  bst.update(dtrain, iteration=i, fobj=obj)\n"
     ]
    },
    {
     "name": "stdout",
     "output_type": "stream",
     "text": [
      "[CV] END clf__colsample_bytree=0.6, clf__learning_rate=0.01, clf__max_depth=3, clf__n_estimators=400, clf__subsample=0.6; total time=   7.4s\n"
     ]
    },
    {
     "name": "stderr",
     "output_type": "stream",
     "text": [
      "/Library/Frameworks/Python.framework/Versions/3.11/lib/python3.11/site-packages/xgboost/training.py:183: UserWarning: [17:20:20] WARNING: /Users/runner/work/xgboost/xgboost/src/learner.cc:738: \n",
      "Parameters: { \"use_label_encoder\" } are not used.\n",
      "\n",
      "  bst.update(dtrain, iteration=i, fobj=obj)\n"
     ]
    },
    {
     "name": "stdout",
     "output_type": "stream",
     "text": [
      "[CV] END clf__colsample_bytree=0.8, clf__learning_rate=0.1, clf__max_depth=6, clf__n_estimators=400, clf__subsample=1.0; total time=   3.1s\n"
     ]
    },
    {
     "name": "stderr",
     "output_type": "stream",
     "text": [
      "/Library/Frameworks/Python.framework/Versions/3.11/lib/python3.11/site-packages/xgboost/training.py:183: UserWarning: [17:20:23] WARNING: /Users/runner/work/xgboost/xgboost/src/learner.cc:738: \n",
      "Parameters: { \"use_label_encoder\" } are not used.\n",
      "\n",
      "  bst.update(dtrain, iteration=i, fobj=obj)\n"
     ]
    },
    {
     "name": "stdout",
     "output_type": "stream",
     "text": [
      "[CV] END clf__colsample_bytree=0.8, clf__learning_rate=0.1, clf__max_depth=6, clf__n_estimators=400, clf__subsample=1.0; total time=   5.6s\n"
     ]
    },
    {
     "name": "stderr",
     "output_type": "stream",
     "text": [
      "/Library/Frameworks/Python.framework/Versions/3.11/lib/python3.11/site-packages/xgboost/training.py:183: UserWarning: [17:20:29] WARNING: /Users/runner/work/xgboost/xgboost/src/learner.cc:738: \n",
      "Parameters: { \"use_label_encoder\" } are not used.\n",
      "\n",
      "  bst.update(dtrain, iteration=i, fobj=obj)\n"
     ]
    },
    {
     "name": "stdout",
     "output_type": "stream",
     "text": [
      "[CV] END clf__colsample_bytree=0.8, clf__learning_rate=0.1, clf__max_depth=6, clf__n_estimators=400, clf__subsample=1.0; total time=   8.3s\n"
     ]
    },
    {
     "name": "stderr",
     "output_type": "stream",
     "text": [
      "/Library/Frameworks/Python.framework/Versions/3.11/lib/python3.11/site-packages/xgboost/training.py:183: UserWarning: [17:20:37] WARNING: /Users/runner/work/xgboost/xgboost/src/learner.cc:738: \n",
      "Parameters: { \"use_label_encoder\" } are not used.\n",
      "\n",
      "  bst.update(dtrain, iteration=i, fobj=obj)\n"
     ]
    },
    {
     "name": "stdout",
     "output_type": "stream",
     "text": [
      "[CV] END clf__colsample_bytree=1.0, clf__learning_rate=0.1, clf__max_depth=6, clf__n_estimators=400, clf__subsample=0.8; total time=   3.4s\n"
     ]
    },
    {
     "name": "stderr",
     "output_type": "stream",
     "text": [
      "/Library/Frameworks/Python.framework/Versions/3.11/lib/python3.11/site-packages/xgboost/training.py:183: UserWarning: [17:20:40] WARNING: /Users/runner/work/xgboost/xgboost/src/learner.cc:738: \n",
      "Parameters: { \"use_label_encoder\" } are not used.\n",
      "\n",
      "  bst.update(dtrain, iteration=i, fobj=obj)\n"
     ]
    },
    {
     "name": "stdout",
     "output_type": "stream",
     "text": [
      "[CV] END clf__colsample_bytree=1.0, clf__learning_rate=0.1, clf__max_depth=6, clf__n_estimators=400, clf__subsample=0.8; total time=   6.3s\n"
     ]
    },
    {
     "name": "stderr",
     "output_type": "stream",
     "text": [
      "/Library/Frameworks/Python.framework/Versions/3.11/lib/python3.11/site-packages/xgboost/training.py:183: UserWarning: [17:20:47] WARNING: /Users/runner/work/xgboost/xgboost/src/learner.cc:738: \n",
      "Parameters: { \"use_label_encoder\" } are not used.\n",
      "\n",
      "  bst.update(dtrain, iteration=i, fobj=obj)\n"
     ]
    },
    {
     "name": "stdout",
     "output_type": "stream",
     "text": [
      "[CV] END clf__colsample_bytree=1.0, clf__learning_rate=0.1, clf__max_depth=6, clf__n_estimators=400, clf__subsample=0.8; total time=   9.4s\n"
     ]
    },
    {
     "name": "stderr",
     "output_type": "stream",
     "text": [
      "/Library/Frameworks/Python.framework/Versions/3.11/lib/python3.11/site-packages/xgboost/training.py:183: UserWarning: [17:20:56] WARNING: /Users/runner/work/xgboost/xgboost/src/learner.cc:738: \n",
      "Parameters: { \"use_label_encoder\" } are not used.\n",
      "\n",
      "  bst.update(dtrain, iteration=i, fobj=obj)\n"
     ]
    },
    {
     "name": "stdout",
     "output_type": "stream",
     "text": [
      "[CV] END clf__colsample_bytree=1.0, clf__learning_rate=0.1, clf__max_depth=10, clf__n_estimators=200, clf__subsample=0.8; total time=   2.9s\n"
     ]
    },
    {
     "name": "stderr",
     "output_type": "stream",
     "text": [
      "/Library/Frameworks/Python.framework/Versions/3.11/lib/python3.11/site-packages/xgboost/training.py:183: UserWarning: [17:20:59] WARNING: /Users/runner/work/xgboost/xgboost/src/learner.cc:738: \n",
      "Parameters: { \"use_label_encoder\" } are not used.\n",
      "\n",
      "  bst.update(dtrain, iteration=i, fobj=obj)\n"
     ]
    },
    {
     "name": "stdout",
     "output_type": "stream",
     "text": [
      "[CV] END clf__colsample_bytree=1.0, clf__learning_rate=0.1, clf__max_depth=10, clf__n_estimators=200, clf__subsample=0.8; total time=   5.2s\n"
     ]
    },
    {
     "name": "stderr",
     "output_type": "stream",
     "text": [
      "/Library/Frameworks/Python.framework/Versions/3.11/lib/python3.11/site-packages/xgboost/training.py:183: UserWarning: [17:21:04] WARNING: /Users/runner/work/xgboost/xgboost/src/learner.cc:738: \n",
      "Parameters: { \"use_label_encoder\" } are not used.\n",
      "\n",
      "  bst.update(dtrain, iteration=i, fobj=obj)\n"
     ]
    },
    {
     "name": "stdout",
     "output_type": "stream",
     "text": [
      "[CV] END clf__colsample_bytree=1.0, clf__learning_rate=0.1, clf__max_depth=10, clf__n_estimators=200, clf__subsample=0.8; total time=   7.6s\n"
     ]
    },
    {
     "name": "stderr",
     "output_type": "stream",
     "text": [
      "/Library/Frameworks/Python.framework/Versions/3.11/lib/python3.11/site-packages/xgboost/training.py:183: UserWarning: [17:21:11] WARNING: /Users/runner/work/xgboost/xgboost/src/learner.cc:738: \n",
      "Parameters: { \"use_label_encoder\" } are not used.\n",
      "\n",
      "  bst.update(dtrain, iteration=i, fobj=obj)\n"
     ]
    },
    {
     "name": "stdout",
     "output_type": "stream",
     "text": [
      "[CV] END clf__colsample_bytree=1.0, clf__learning_rate=0.01, clf__max_depth=6, clf__n_estimators=200, clf__subsample=0.8; total time=   2.0s\n"
     ]
    },
    {
     "name": "stderr",
     "output_type": "stream",
     "text": [
      "/Library/Frameworks/Python.framework/Versions/3.11/lib/python3.11/site-packages/xgboost/training.py:183: UserWarning: [17:21:14] WARNING: /Users/runner/work/xgboost/xgboost/src/learner.cc:738: \n",
      "Parameters: { \"use_label_encoder\" } are not used.\n",
      "\n",
      "  bst.update(dtrain, iteration=i, fobj=obj)\n"
     ]
    },
    {
     "name": "stdout",
     "output_type": "stream",
     "text": [
      "[CV] END clf__colsample_bytree=1.0, clf__learning_rate=0.01, clf__max_depth=6, clf__n_estimators=200, clf__subsample=0.8; total time=   3.6s\n"
     ]
    },
    {
     "name": "stderr",
     "output_type": "stream",
     "text": [
      "/Library/Frameworks/Python.framework/Versions/3.11/lib/python3.11/site-packages/xgboost/training.py:183: UserWarning: [17:21:18] WARNING: /Users/runner/work/xgboost/xgboost/src/learner.cc:738: \n",
      "Parameters: { \"use_label_encoder\" } are not used.\n",
      "\n",
      "  bst.update(dtrain, iteration=i, fobj=obj)\n"
     ]
    },
    {
     "name": "stdout",
     "output_type": "stream",
     "text": [
      "[CV] END clf__colsample_bytree=1.0, clf__learning_rate=0.01, clf__max_depth=6, clf__n_estimators=200, clf__subsample=0.8; total time=   5.4s\n"
     ]
    },
    {
     "name": "stderr",
     "output_type": "stream",
     "text": [
      "/Library/Frameworks/Python.framework/Versions/3.11/lib/python3.11/site-packages/xgboost/training.py:183: UserWarning: [17:21:22] WARNING: /Users/runner/work/xgboost/xgboost/src/learner.cc:738: \n",
      "Parameters: { \"use_label_encoder\" } are not used.\n",
      "\n",
      "  bst.update(dtrain, iteration=i, fobj=obj)\n"
     ]
    },
    {
     "name": "stdout",
     "output_type": "stream",
     "text": [
      "[CV] END clf__colsample_bytree=1.0, clf__learning_rate=0.05, clf__max_depth=10, clf__n_estimators=400, clf__subsample=1.0; total time=   5.3s\n"
     ]
    },
    {
     "name": "stderr",
     "output_type": "stream",
     "text": [
      "/Library/Frameworks/Python.framework/Versions/3.11/lib/python3.11/site-packages/xgboost/training.py:183: UserWarning: [17:21:28] WARNING: /Users/runner/work/xgboost/xgboost/src/learner.cc:738: \n",
      "Parameters: { \"use_label_encoder\" } are not used.\n",
      "\n",
      "  bst.update(dtrain, iteration=i, fobj=obj)\n"
     ]
    },
    {
     "name": "stdout",
     "output_type": "stream",
     "text": [
      "[CV] END clf__colsample_bytree=1.0, clf__learning_rate=0.05, clf__max_depth=10, clf__n_estimators=400, clf__subsample=1.0; total time=   9.2s\n"
     ]
    },
    {
     "name": "stderr",
     "output_type": "stream",
     "text": [
      "/Library/Frameworks/Python.framework/Versions/3.11/lib/python3.11/site-packages/xgboost/training.py:183: UserWarning: [17:21:38] WARNING: /Users/runner/work/xgboost/xgboost/src/learner.cc:738: \n",
      "Parameters: { \"use_label_encoder\" } are not used.\n",
      "\n",
      "  bst.update(dtrain, iteration=i, fobj=obj)\n"
     ]
    },
    {
     "name": "stdout",
     "output_type": "stream",
     "text": [
      "[CV] END clf__colsample_bytree=1.0, clf__learning_rate=0.05, clf__max_depth=10, clf__n_estimators=400, clf__subsample=1.0; total time=  13.4s\n"
     ]
    },
    {
     "name": "stderr",
     "output_type": "stream",
     "text": [
      "/Library/Frameworks/Python.framework/Versions/3.11/lib/python3.11/site-packages/xgboost/training.py:183: UserWarning: [17:21:50] WARNING: /Users/runner/work/xgboost/xgboost/src/learner.cc:738: \n",
      "Parameters: { \"use_label_encoder\" } are not used.\n",
      "\n",
      "  bst.update(dtrain, iteration=i, fobj=obj)\n"
     ]
    },
    {
     "name": "stdout",
     "output_type": "stream",
     "text": [
      "[CV] END clf__colsample_bytree=0.8, clf__learning_rate=0.1, clf__max_depth=6, clf__n_estimators=400, clf__subsample=0.6; total time=   3.7s\n"
     ]
    },
    {
     "name": "stderr",
     "output_type": "stream",
     "text": [
      "/Library/Frameworks/Python.framework/Versions/3.11/lib/python3.11/site-packages/xgboost/training.py:183: UserWarning: [17:21:54] WARNING: /Users/runner/work/xgboost/xgboost/src/learner.cc:738: \n",
      "Parameters: { \"use_label_encoder\" } are not used.\n",
      "\n",
      "  bst.update(dtrain, iteration=i, fobj=obj)\n"
     ]
    },
    {
     "name": "stdout",
     "output_type": "stream",
     "text": [
      "[CV] END clf__colsample_bytree=0.8, clf__learning_rate=0.1, clf__max_depth=6, clf__n_estimators=400, clf__subsample=0.6; total time=   6.8s\n"
     ]
    },
    {
     "name": "stderr",
     "output_type": "stream",
     "text": [
      "/Library/Frameworks/Python.framework/Versions/3.11/lib/python3.11/site-packages/xgboost/training.py:183: UserWarning: [17:22:02] WARNING: /Users/runner/work/xgboost/xgboost/src/learner.cc:738: \n",
      "Parameters: { \"use_label_encoder\" } are not used.\n",
      "\n",
      "  bst.update(dtrain, iteration=i, fobj=obj)\n"
     ]
    },
    {
     "name": "stdout",
     "output_type": "stream",
     "text": [
      "[CV] END clf__colsample_bytree=0.8, clf__learning_rate=0.1, clf__max_depth=6, clf__n_estimators=400, clf__subsample=0.6; total time=  10.1s\n"
     ]
    },
    {
     "name": "stderr",
     "output_type": "stream",
     "text": [
      "/Library/Frameworks/Python.framework/Versions/3.11/lib/python3.11/site-packages/xgboost/training.py:183: UserWarning: [17:22:11] WARNING: /Users/runner/work/xgboost/xgboost/src/learner.cc:738: \n",
      "Parameters: { \"use_label_encoder\" } are not used.\n",
      "\n",
      "  bst.update(dtrain, iteration=i, fobj=obj)\n"
     ]
    },
    {
     "name": "stdout",
     "output_type": "stream",
     "text": [
      "[CV] END clf__colsample_bytree=0.6, clf__learning_rate=0.01, clf__max_depth=6, clf__n_estimators=100, clf__subsample=0.6; total time=   1.2s\n"
     ]
    },
    {
     "name": "stderr",
     "output_type": "stream",
     "text": [
      "/Library/Frameworks/Python.framework/Versions/3.11/lib/python3.11/site-packages/xgboost/training.py:183: UserWarning: [17:22:13] WARNING: /Users/runner/work/xgboost/xgboost/src/learner.cc:738: \n",
      "Parameters: { \"use_label_encoder\" } are not used.\n",
      "\n",
      "  bst.update(dtrain, iteration=i, fobj=obj)\n"
     ]
    },
    {
     "name": "stdout",
     "output_type": "stream",
     "text": [
      "[CV] END clf__colsample_bytree=0.6, clf__learning_rate=0.01, clf__max_depth=6, clf__n_estimators=100, clf__subsample=0.6; total time=   2.3s\n"
     ]
    },
    {
     "name": "stderr",
     "output_type": "stream",
     "text": [
      "/Library/Frameworks/Python.framework/Versions/3.11/lib/python3.11/site-packages/xgboost/training.py:183: UserWarning: [17:22:15] WARNING: /Users/runner/work/xgboost/xgboost/src/learner.cc:738: \n",
      "Parameters: { \"use_label_encoder\" } are not used.\n",
      "\n",
      "  bst.update(dtrain, iteration=i, fobj=obj)\n"
     ]
    },
    {
     "name": "stdout",
     "output_type": "stream",
     "text": [
      "[CV] END clf__colsample_bytree=0.6, clf__learning_rate=0.01, clf__max_depth=6, clf__n_estimators=100, clf__subsample=0.6; total time=   3.4s\n"
     ]
    },
    {
     "name": "stderr",
     "output_type": "stream",
     "text": [
      "/Library/Frameworks/Python.framework/Versions/3.11/lib/python3.11/site-packages/xgboost/training.py:183: UserWarning: [17:22:18] WARNING: /Users/runner/work/xgboost/xgboost/src/learner.cc:738: \n",
      "Parameters: { \"use_label_encoder\" } are not used.\n",
      "\n",
      "  bst.update(dtrain, iteration=i, fobj=obj)\n"
     ]
    },
    {
     "name": "stdout",
     "output_type": "stream",
     "text": [
      "[CV] END clf__colsample_bytree=0.8, clf__learning_rate=0.05, clf__max_depth=3, clf__n_estimators=200, clf__subsample=1.0; total time=   1.3s\n"
     ]
    },
    {
     "name": "stderr",
     "output_type": "stream",
     "text": [
      "/Library/Frameworks/Python.framework/Versions/3.11/lib/python3.11/site-packages/xgboost/training.py:183: UserWarning: [17:22:20] WARNING: /Users/runner/work/xgboost/xgboost/src/learner.cc:738: \n",
      "Parameters: { \"use_label_encoder\" } are not used.\n",
      "\n",
      "  bst.update(dtrain, iteration=i, fobj=obj)\n"
     ]
    },
    {
     "name": "stdout",
     "output_type": "stream",
     "text": [
      "[CV] END clf__colsample_bytree=0.8, clf__learning_rate=0.05, clf__max_depth=3, clf__n_estimators=200, clf__subsample=1.0; total time=   2.3s\n"
     ]
    },
    {
     "name": "stderr",
     "output_type": "stream",
     "text": [
      "/Library/Frameworks/Python.framework/Versions/3.11/lib/python3.11/site-packages/xgboost/training.py:183: UserWarning: [17:22:22] WARNING: /Users/runner/work/xgboost/xgboost/src/learner.cc:738: \n",
      "Parameters: { \"use_label_encoder\" } are not used.\n",
      "\n",
      "  bst.update(dtrain, iteration=i, fobj=obj)\n"
     ]
    },
    {
     "name": "stdout",
     "output_type": "stream",
     "text": [
      "[CV] END clf__colsample_bytree=0.8, clf__learning_rate=0.05, clf__max_depth=3, clf__n_estimators=200, clf__subsample=1.0; total time=   3.5s\n"
     ]
    },
    {
     "name": "stderr",
     "output_type": "stream",
     "text": [
      "/Library/Frameworks/Python.framework/Versions/3.11/lib/python3.11/site-packages/xgboost/training.py:183: UserWarning: [17:22:25] WARNING: /Users/runner/work/xgboost/xgboost/src/learner.cc:738: \n",
      "Parameters: { \"use_label_encoder\" } are not used.\n",
      "\n",
      "  bst.update(dtrain, iteration=i, fobj=obj)\n"
     ]
    },
    {
     "name": "stdout",
     "output_type": "stream",
     "text": [
      "[CV] END clf__colsample_bytree=0.6, clf__learning_rate=0.05, clf__max_depth=10, clf__n_estimators=100, clf__subsample=0.6; total time=   1.7s\n"
     ]
    },
    {
     "name": "stderr",
     "output_type": "stream",
     "text": [
      "/Library/Frameworks/Python.framework/Versions/3.11/lib/python3.11/site-packages/xgboost/training.py:183: UserWarning: [17:22:27] WARNING: /Users/runner/work/xgboost/xgboost/src/learner.cc:738: \n",
      "Parameters: { \"use_label_encoder\" } are not used.\n",
      "\n",
      "  bst.update(dtrain, iteration=i, fobj=obj)\n"
     ]
    },
    {
     "name": "stdout",
     "output_type": "stream",
     "text": [
      "[CV] END clf__colsample_bytree=0.6, clf__learning_rate=0.05, clf__max_depth=10, clf__n_estimators=100, clf__subsample=0.6; total time=   3.0s\n"
     ]
    },
    {
     "name": "stderr",
     "output_type": "stream",
     "text": [
      "/Library/Frameworks/Python.framework/Versions/3.11/lib/python3.11/site-packages/xgboost/training.py:183: UserWarning: [17:22:30] WARNING: /Users/runner/work/xgboost/xgboost/src/learner.cc:738: \n",
      "Parameters: { \"use_label_encoder\" } are not used.\n",
      "\n",
      "  bst.update(dtrain, iteration=i, fobj=obj)\n"
     ]
    },
    {
     "name": "stdout",
     "output_type": "stream",
     "text": [
      "[CV] END clf__colsample_bytree=0.6, clf__learning_rate=0.05, clf__max_depth=10, clf__n_estimators=100, clf__subsample=0.6; total time=   4.4s\n"
     ]
    },
    {
     "name": "stderr",
     "output_type": "stream",
     "text": [
      "/Library/Frameworks/Python.framework/Versions/3.11/lib/python3.11/site-packages/xgboost/training.py:183: UserWarning: [17:22:34] WARNING: /Users/runner/work/xgboost/xgboost/src/learner.cc:738: \n",
      "Parameters: { \"use_label_encoder\" } are not used.\n",
      "\n",
      "  bst.update(dtrain, iteration=i, fobj=obj)\n"
     ]
    },
    {
     "name": "stdout",
     "output_type": "stream",
     "text": [
      "[CV] END clf__colsample_bytree=1.0, clf__learning_rate=0.05, clf__max_depth=10, clf__n_estimators=100, clf__subsample=1.0; total time=   1.6s\n"
     ]
    },
    {
     "name": "stderr",
     "output_type": "stream",
     "text": [
      "/Library/Frameworks/Python.framework/Versions/3.11/lib/python3.11/site-packages/xgboost/training.py:183: UserWarning: [17:22:36] WARNING: /Users/runner/work/xgboost/xgboost/src/learner.cc:738: \n",
      "Parameters: { \"use_label_encoder\" } are not used.\n",
      "\n",
      "  bst.update(dtrain, iteration=i, fobj=obj)\n"
     ]
    },
    {
     "name": "stdout",
     "output_type": "stream",
     "text": [
      "[CV] END clf__colsample_bytree=1.0, clf__learning_rate=0.05, clf__max_depth=10, clf__n_estimators=100, clf__subsample=1.0; total time=   2.8s\n"
     ]
    },
    {
     "name": "stderr",
     "output_type": "stream",
     "text": [
      "/Library/Frameworks/Python.framework/Versions/3.11/lib/python3.11/site-packages/xgboost/training.py:183: UserWarning: [17:22:39] WARNING: /Users/runner/work/xgboost/xgboost/src/learner.cc:738: \n",
      "Parameters: { \"use_label_encoder\" } are not used.\n",
      "\n",
      "  bst.update(dtrain, iteration=i, fobj=obj)\n"
     ]
    },
    {
     "name": "stdout",
     "output_type": "stream",
     "text": [
      "[CV] END clf__colsample_bytree=1.0, clf__learning_rate=0.05, clf__max_depth=10, clf__n_estimators=100, clf__subsample=1.0; total time=   4.1s\n"
     ]
    },
    {
     "name": "stderr",
     "output_type": "stream",
     "text": [
      "/Library/Frameworks/Python.framework/Versions/3.11/lib/python3.11/site-packages/xgboost/training.py:183: UserWarning: [17:22:44] WARNING: /Users/runner/work/xgboost/xgboost/src/learner.cc:738: \n",
      "Parameters: { \"use_label_encoder\" } are not used.\n",
      "\n",
      "  bst.update(dtrain, iteration=i, fobj=obj)\n"
     ]
    },
    {
     "name": "stdout",
     "output_type": "stream",
     "text": [
      "Best params: {'clf__subsample': 1.0, 'clf__n_estimators': 200, 'clf__max_depth': 3, 'clf__learning_rate': 0.05, 'clf__colsample_bytree': 0.8}\n",
      "              precision    recall  f1-score   support\n",
      "\n",
      "           0       0.99      1.00      1.00    347681\n",
      "           1       0.47      0.32      0.38      3150\n",
      "\n",
      "    accuracy                           0.99    350831\n",
      "   macro avg       0.73      0.66      0.69    350831\n",
      "weighted avg       0.99      0.99      0.99    350831\n",
      "\n",
      "ROC AUC: 0.6642750705205368\n",
      "PR AUC (avg precision): 0.33264595124364976\n",
      "Confusion matrix:\n",
      " [[346543   1138]\n",
      " [  2130   1020]]\n",
      "Pipeline finished. Artifacts saved in ./artifacts\n"
     ]
    }
   ],
   "source": [
    "# fraud_pipeline.py\n",
    "# Requirements: pandas, numpy, scikit-learn, xgboost, imbalanced-learn, joblib, matplotlib, seaborn, shap\n",
    "# pip install pandas numpy scikit-learn xgboost imbalanced-learn joblib matplotlib seaborn shap\n",
    "\n",
    "import os\n",
    "import pandas as pd\n",
    "import numpy as np\n",
    "from datetime import datetime, timedelta\n",
    "\n",
    "# modeling\n",
    "from sklearn.model_selection import train_test_split, RandomizedSearchCV, TimeSeriesSplit\n",
    "from sklearn.preprocessing import StandardScaler\n",
    "from sklearn.pipeline import Pipeline\n",
    "from sklearn.compose import ColumnTransformer\n",
    "from sklearn.metrics import (precision_recall_fscore_support, classification_report,\n",
    "                             roc_auc_score, average_precision_score, confusion_matrix)\n",
    "from xgboost import XGBClassifier\n",
    "from imblearn.over_sampling import SMOTE\n",
    "from imblearn.pipeline import Pipeline as ImbPipeline\n",
    "\n",
    "import joblib\n",
    "import shap\n",
    "import matplotlib.pyplot as plt\n",
    "import seaborn as sns\n",
    "\n",
    "sns.set_style(\"whitegrid\")\n",
    "\n",
    "# 1) Load data\n",
    "df = pd.read_csv(\"transactions.csv\", parse_dates=[\"TX_DATETIME\"])  # adjust filename/column names if necessary\n",
    "\n",
    "# Preview\n",
    "print(\"Rows:\", len(df))\n",
    "print(df.head())\n",
    "\n",
    "# 2) Basic cleaning\n",
    "# Drop duplicates\n",
    "df = df.drop_duplicates(subset=[\"TRANSACTION_ID\"])\n",
    "# Ensure TX_FRAUD is int (0/1)\n",
    "df[\"TX_FRAUD\"] = df[\"TX_FRAUD\"].astype(int)\n",
    "\n",
    "# 3) Feature engineering\n",
    "# Time features\n",
    "df[\"tx_hour\"] = df[\"TX_DATETIME\"].dt.hour\n",
    "df[\"tx_dayofweek\"] = df[\"TX_DATETIME\"].dt.dayofweek\n",
    "df[\"tx_day\"] = df[\"TX_DATETIME\"].dt.day\n",
    "df[\"tx_month\"] = df[\"TX_DATETIME\"].dt.month\n",
    "df[\"tx_is_weekend\"] = df[\"tx_dayofweek\"].isin([5,6]).astype(int)\n",
    "\n",
    "# Amount transformations\n",
    "df[\"tx_amount_log\"] = np.log1p(df[\"TX_AMOUNT\"])\n",
    "\n",
    "# Rolling / historical aggregates per customer and terminal\n",
    "# To avoid future leakage we will compute aggregated features *up to the transaction time* in a time-ordered manner.\n",
    "df = df.sort_values(\"TX_DATETIME\").reset_index(drop=True)\n",
    "\n",
    "# Helper to compute expanding aggregates up to previous transaction per entity\n",
    "def expanding_aggregates(df, group_col, amount_col=\"TX_AMOUNT\", prefix=\"cust\"):\n",
    "    # compute for each row, the prior average and count per group\n",
    "    df[f\"{prefix}_tx_count_prior\"] = 0\n",
    "    df[f\"{prefix}_tx_amount_mean_prior\"] = 0.0\n",
    "    # We'll iterate group by group for safe \"prior only\"\n",
    "    for g, gdf in df.groupby(group_col):\n",
    "        idx = gdf.index\n",
    "        # expanding count and mean, shifted by 1 to be prior-only\n",
    "        cumsum = gdf[amount_col].cumsum() - gdf[amount_col]\n",
    "        count = np.arange(len(gdf))\n",
    "        mean_prior = np.where(count == 0, 0.0, cumsum / np.where(count == 0, 1, count))\n",
    "        df.loc[idx, f\"{prefix}_tx_count_prior\"] = count\n",
    "        df.loc[idx, f\"{prefix}_tx_amount_mean_prior\"] = mean_prior\n",
    "    return df\n",
    "\n",
    "# Customer aggregates\n",
    "df = expanding_aggregates(df, group_col=\"CUSTOMER_ID\", amount_col=\"TX_AMOUNT\", prefix=\"cust\")\n",
    "# Terminal aggregates\n",
    "df = expanding_aggregates(df, group_col=\"TERMINAL_ID\", amount_col=\"TX_AMOUNT\", prefix=\"term\")\n",
    "\n",
    "# Additional features: ratio of amount to customer's avg, terminal's avg\n",
    "df[\"tx_amount_over_cust_avg\"] = df[\"TX_AMOUNT\"] / (df[\"cust_tx_amount_mean_prior\"].replace(0, np.nan))\n",
    "df[\"tx_amount_over_term_avg\"] = df[\"TX_AMOUNT\"] / (df[\"term_tx_amount_mean_prior\"].replace(0, np.nan))\n",
    "# fill inf/nan\n",
    "df[\"tx_amount_over_cust_avg\"].replace([np.inf, -np.inf], np.nan, inplace=True)\n",
    "df[\"tx_amount_over_cust_avg\"].fillna(0, inplace=True)\n",
    "df[\"tx_amount_over_term_avg\"].replace([np.inf, -np.inf], np.nan, inplace=True)\n",
    "df[\"tx_amount_over_term_avg\"].fillna(0, inplace=True)\n",
    "\n",
    "# Flag for high amount (based on PDF rule)\n",
    "df[\"flag_amount_gt_220\"] = (df[\"TX_AMOUNT\"] > 220).astype(int)\n",
    "\n",
    "# 4) Select features and target\n",
    "feature_cols = [\n",
    "    \"TX_AMOUNT\", \"tx_amount_log\", \"tx_hour\", \"tx_dayofweek\", \"tx_is_weekend\",\n",
    "    \"cust_tx_count_prior\", \"cust_tx_amount_mean_prior\",\n",
    "    \"term_tx_count_prior\", \"term_tx_amount_mean_prior\",\n",
    "    \"tx_amount_over_cust_avg\", \"tx_amount_over_term_avg\",\n",
    "    \"flag_amount_gt_220\"\n",
    "]\n",
    "target_col = \"TX_FRAUD\"\n",
    "\n",
    "X = df[feature_cols].fillna(0)\n",
    "y = df[target_col]\n",
    "\n",
    "# 5) Time-based split: use earliest 80% (by date) as train, latest 20% as test\n",
    "cutoff_index = int(0.8 * len(df))\n",
    "train_idx = df.index[:cutoff_index]\n",
    "test_idx = df.index[cutoff_index:]\n",
    "\n",
    "X_train, y_train = X.loc[train_idx], y.loc[train_idx]\n",
    "X_test, y_test = X.loc[test_idx], y.loc[test_idx]\n",
    "\n",
    "print(\"Train shape:\", X_train.shape, \"Test shape:\", X_test.shape)\n",
    "print(\"Fraud ratio train:\", y_train.mean(), \"test:\", y_test.mean())\n",
    "\n",
    "# 6) Modeling pipeline (with class weighting via scale_pos_weight for XGBoost)\n",
    "# We'll try XGBoost as baseline with SMOTE + scaling for numerical stability (scaling helps the over-sampler)\n",
    "numeric_features = feature_cols\n",
    "numeric_transformer = StandardScaler()\n",
    "\n",
    "preprocessor = ColumnTransformer(\n",
    "    transformers=[\n",
    "        (\"num\", numeric_transformer, numeric_features)\n",
    "    ],\n",
    "    remainder=\"drop\"\n",
    ")\n",
    "\n",
    "# Use imblearn Pipeline to apply SMOTE only on training folds\n",
    "model = XGBClassifier(\n",
    "    objective=\"binary:logistic\",\n",
    "    use_label_encoder=False,\n",
    "    eval_metric=\"logloss\",\n",
    "    n_jobs=4,\n",
    "    random_state=42\n",
    ")\n",
    "\n",
    "pipe = ImbPipeline(steps=[\n",
    "    (\"preproc\", preprocessor),\n",
    "    (\"smote\", SMOTE(random_state=42)),\n",
    "    (\"clf\", model)\n",
    "])\n",
    "\n",
    "# 7) Hyperparameter search (randomized)\n",
    "param_dist = {\n",
    "    \"clf__n_estimators\": [100, 200, 400],\n",
    "    \"clf__max_depth\": [3, 6, 10],\n",
    "    \"clf__learning_rate\": [0.01, 0.05, 0.1],\n",
    "    \"clf__subsample\": [0.6, 0.8, 1.0],\n",
    "    \"clf__colsample_bytree\": [0.6, 0.8, 1.0],\n",
    "}\n",
    "\n",
    "tscv = TimeSeriesSplit(n_splits=3)\n",
    "rs = RandomizedSearchCV(pipe, param_distributions=param_dist, n_iter=12,\n",
    "                        scoring=\"average_precision\", cv=tscv, verbose=2, random_state=42)\n",
    "\n",
    "rs.fit(X_train, y_train)\n",
    "\n",
    "print(\"Best params:\", rs.best_params_)\n",
    "best_model = rs.best_estimator_\n",
    "\n",
    "# 8) Evaluation on test set\n",
    "y_pred = best_model.predict(X_test)\n",
    "y_proba = best_model.predict_proba(X_test)[:,1]\n",
    "\n",
    "print(classification_report(y_test, y_pred))\n",
    "print(\"ROC AUC:\", roc_auc_score(y_test, y_proba))\n",
    "print(\"PR AUC (avg precision):\", average_precision_score(y_test, y_proba))\n",
    "cm = confusion_matrix(y_test, y_pred)\n",
    "print(\"Confusion matrix:\\n\", cm)\n",
    "\n",
    "# Save model and feature list and columns\n",
    "os.makedirs(\"artifacts\", exist_ok=True)\n",
    "joblib.dump(best_model, \"artifacts/fraud_xgb_pipeline.pkl\")\n",
    "joblib.dump(feature_cols, \"artifacts/feature_cols.pkl\")\n",
    "\n",
    "# 9) SHAP explainability (sample)\n",
    "# This will show which features drive predictions for a few transactions\n",
    "explainer = shap.TreeExplainer(best_model.named_steps[\"clf\"])\n",
    "# Need to provide preprocessed features to explainer\n",
    "X_test_pre = best_model.named_steps[\"preproc\"].transform(X_test)\n",
    "# Convert to DataFrame for SHAP labeling\n",
    "X_test_pre_df = pd.DataFrame(X_test_pre, columns=feature_cols)\n",
    "shap_values = explainer.shap_values(X_test_pre_df)\n",
    "# Summary plot (save to file)\n",
    "shap.summary_plot(shap_values, X_test_pre_df, show=False)\n",
    "plt.savefig(\"artifacts/shap_summary.png\", bbox_inches=\"tight\")\n",
    "plt.close()\n",
    "\n",
    "print(\"Pipeline finished. Artifacts saved in ./artifacts\")\n"
   ]
  }
 ],
 "metadata": {
  "kernelspec": {
   "display_name": "Python 3",
   "language": "python",
   "name": "python3"
  },
  "language_info": {
   "codemirror_mode": {
    "name": "ipython",
    "version": 3
   },
   "file_extension": ".py",
   "mimetype": "text/x-python",
   "name": "python",
   "nbconvert_exporter": "python",
   "pygments_lexer": "ipython3",
   "version": "3.11.9"
  }
 },
 "nbformat": 4,
 "nbformat_minor": 5
}
